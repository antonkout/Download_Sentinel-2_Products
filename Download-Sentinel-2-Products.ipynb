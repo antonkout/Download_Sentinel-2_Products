{
 "cells": [
  {
   "cell_type": "code",
   "execution_count": 11,
   "id": "8c547282",
   "metadata": {},
   "outputs": [],
   "source": [
    "import os\n",
    "import requests\n",
    "from google.cloud import bigquery\n",
    "from google.oauth2 import service_account\n",
    "import pandas as pd\n",
    "from datetime import datetime\n",
    "import urllib"
   ]
  },
  {
   "cell_type": "code",
   "execution_count": 12,
   "id": "8afb31ad",
   "metadata": {},
   "outputs": [],
   "source": [
    "BASE_URL = 'http://storage.googleapis.com/'"
   ]
  },
  {
   "cell_type": "code",
   "execution_count": 13,
   "id": "2348c345",
   "metadata": {},
   "outputs": [],
   "source": [
    "def query_sentinel(key_json, project_id, start, end, tile, cloud=100.):\n",
    "    credentials = service_account.Credentials.from_service_account_file(key_json)\n",
    "    client = bigquery.Client(credentials=credentials, project=project_id)\n",
    "    query = client.query(\"\"\"\n",
    "                SELECT * FROM `bigquery-public-data.cloud_storage_geo_index.sentinel_2_index` \n",
    "                    WHERE mgrs_tile IN (\"{t}\") \n",
    "                    AND DATE(sensing_time) BETWEEN DATE(\"{s}\") AND DATE(\"{e}\")\n",
    "                \"\"\".format(t=tile, s=start, e=end))\n",
    "    results = query.result()\n",
    "    df = results.to_dataframe()\n",
    "    good_scenes = []\n",
    "    for i, row in df.iterrows():\n",
    "        print (row['product_id'], '; cloud cover:', row['cloud_cover'])\n",
    "        if float(row['cloud_cover']) <= cloud:\n",
    "            good_scenes.append(row['base_url'].replace('gs://', BASE_URL))\n",
    "    return good_scenes"
   ]
  },
  {
   "cell_type": "code",
   "execution_count": 14,
   "id": "c9fa0bab",
   "metadata": {},
   "outputs": [],
   "source": [
    "def download_file(url, dst_name):\n",
    "    try:\n",
    "        data = requests.get(url, stream=True)\n",
    "        with open(dst_name, 'wb') as out_file:\n",
    "            for chunk in data.iter_content(chunk_size=100 * 100):\n",
    "                out_file.write(chunk)\n",
    "    except:\n",
    "        print ('\\t ... {f} FAILED!'.format(f=url.split('/')[-1]))\n",
    "    return"
   ]
  },
  {
   "cell_type": "code",
   "execution_count": 15,
   "id": "c8334787",
   "metadata": {},
   "outputs": [],
   "source": [
    "def make_safe_dirs(scene, outpath):\n",
    "    scene_name = os.path.basename(scene)\n",
    "    scene_path = os.path.join(outpath, scene_name)\n",
    "    manifest = os.path.join(scene_path, 'manifest.safe')\n",
    "    manifest_url = scene + '/manifest.safe'\n",
    "    if os.path.exists(manifest):\n",
    "        os.remove(manifest)\n",
    "    download_file(manifest_url, manifest)\n",
    "    with open(manifest, 'r') as f:\n",
    "        manifest_lines = f.read().split()\n",
    "    download_links = []\n",
    "    load_this = False\n",
    "    for line in manifest_lines:\n",
    "        if(len(manifest_lines)>1600):\n",
    "            if 'href' in line:\n",
    "                online_path = line[7:line.find('><')]\n",
    "                tile = scene_name.split('_')[-2]\n",
    "                if online_path.startswith('/GRANULE/'):\n",
    "                    if '_' + tile + '_' in online_path:\n",
    "                        load_this = True\n",
    "                else:\n",
    "                    load_this = True\n",
    "                if load_this:\n",
    "                    local_path = os.path.join(scene_path, *online_path.split('/')[1:])\n",
    "                    online_path = scene + online_path\n",
    "                    download_links.append((online_path, local_path))\n",
    "        else:\n",
    "            if 'href' in line:\n",
    "                online_path = line[7:line.find('><') - 2]\n",
    "                tile = scene_name.split('_')[-2]\n",
    "                if online_path.startswith('/GRANULE/'):\n",
    "                    if '_' + tile + '_' in online_path:\n",
    "                        load_this = True\n",
    "                else:\n",
    "                    load_this = True\n",
    "                if load_this:\n",
    "                    local_path = os.path.join(scene_path, *online_path.split('/')[1:])\n",
    "                    online_path = scene + online_path\n",
    "                    download_links.append((online_path, local_path))\n",
    "        load_this = False\n",
    "    for extra_dir in ('AUX_DATA', 'HTML','rep_info'):\n",
    "        if not os.path.exists(os.path.join(scene_path, extra_dir)):\n",
    "            os.makedirs(os.path.join(scene_path, extra_dir))\n",
    "        if(extra_dir == 'rep_info'):\n",
    "            url = scene +'/rep_info/S2_User_Product_Level-1C_Metadata.xsd'\n",
    "            urllib.request.urlretrieve(url, os.path.join(scene_path, extra_dir)+'/S2_User_Product_Level-1C_Metadata.xsd')\n",
    "\n",
    "    return download_links"
   ]
  },
  {
   "cell_type": "code",
   "execution_count": 16,
   "id": "0e3a4aae",
   "metadata": {},
   "outputs": [],
   "source": [
    "def download_sentinel(scene, dst):\n",
    "    scene_name = scene.split('/')[-1]\n",
    "    scene_path = os.path.join(dst, scene_name)\n",
    "    if not os.path.exists(scene_path):\n",
    "        os.mkdir(scene_path)\n",
    "    print ('Downloading scene {s} ...'.format(s=scene_name))\n",
    "    download_links = sorted(make_safe_dirs(scene, dst))\n",
    "    for l in download_links:\n",
    "        if not os.path.exists(os.path.dirname(l[1])):\n",
    "            os.makedirs(os.path.dirname(l[1]))\n",
    "        if os.path.exists(l[1]):\n",
    "            os.remove(l[1])\n",
    "        if l[1].endswith('.jp2'):\n",
    "            print ('\\t ... *{b}'.format(b=l[1].split('_')[-1]))\n",
    "        if download_file(l[0], l[1]) is False:\n",
    "            print ('\\t ... {f} failed to download! Download for this scene is cancelled here!'.format(f=l[0]))\n",
    "            return"
   ]
  },
  {
   "cell_type": "markdown",
   "id": "a28bb0d0",
   "metadata": {},
   "source": [
    "This jupyter notebook can be used in three ways presented bellow:\n",
    "- The first one is with the user interpreting with the environment variables, changing the saving destination folder, the cloud percentage etc. \n",
    "- The second is reading a .csv file with all necessary information like tile, product tile, image_date etc. \n",
    "- The third one is making the kernel ask from the user to give all the necessary information needed."
   ]
  },
  {
   "cell_type": "markdown",
   "id": "063181fb",
   "metadata": {},
   "source": [
    "### 1st Way"
   ]
  },
  {
   "cell_type": "code",
   "execution_count": 17,
   "id": "a4825ace",
   "metadata": {},
   "outputs": [
    {
     "name": "stdout",
     "output_type": "stream",
     "text": [
      "S2A_MSIL1C_20191012T075851_N0208_R035_T37QDD_20191012T092728 ; cloud cover: 7.2512\n",
      "Downloading scene S2A_MSIL1C_20191012T075851_N0208_R035_T37QDD_20191012T092728.SAFE ...\n",
      "\t ... *B01.jp2\n",
      "\t ... *B02.jp2\n",
      "\t ... *B03.jp2\n",
      "\t ... *B04.jp2\n",
      "\t ... *B05.jp2\n",
      "\t ... *B06.jp2\n",
      "\t ... *B07.jp2\n",
      "\t ... *B08.jp2\n",
      "\t ... *B09.jp2\n",
      "\t ... *B10.jp2\n",
      "\t ... *B11.jp2\n",
      "\t ... *B12.jp2\n",
      "\t ... *B8A.jp2\n",
      "\t ... *TCI.jp2\n",
      "\t ... *PVI.jp2\n"
     ]
    }
   ],
   "source": [
    "# Download one product\n",
    "key_json = key from the google activated service\n",
    "project_id = 'taken from the key'\n",
    "outdir = output forlder to save the S2 product\n",
    "tile = tile needed\n",
    "cloud = maximum cloudness\n",
    "\n",
    "start = datetime.strptime(start date,\"%Y/%m/%d\")\n",
    "end = start\n",
    "\n",
    "scene_list = query_sentinel(key_json, project_id, start, end, tile, cloud)\n",
    "for s in scene_list:\n",
    "    download_sentinel(s, outdir)"
   ]
  },
  {
   "cell_type": "markdown",
   "id": "bf2b6086",
   "metadata": {},
   "source": [
    "### 2nd way"
   ]
  },
  {
   "cell_type": "code",
   "execution_count": null,
   "id": "4091a7ac",
   "metadata": {},
   "outputs": [],
   "source": [
    "#Download multiple products\n",
    "csv_path = path_to_csv"\n",
    "df = pd.read_csv(csv_path, index_col=0, header=0,low_memory=False)\n",
    "df = df.sort_values(by=['Lat'])\n",
    "df.index = range(df.shape[0])\n",
    "df = df.iloc[34:,:]\n",
    "df = df[df.Product_title!='0']\n",
    "df.index = range(df.shape[0])\n",
    "for k in range(df.shape[0]):\n",
    "    key_json = path_to_generated_key\n",
    "    project_id = projectid\n",
    "    outdir = saving_folder\n",
    "    tile = df.tile.iloc[k]\n",
    "    cloud = 20\n",
    "    strip = df.Image_date.iloc[k].split(\"/\",2)\n",
    "    start = datetime.strptime(strip[2]+str('/')+strip[0]+str('/')+strip[1],\"%Y/%m/%d\")\n",
    "    end = datetime.strptime(strip[2]+str('/')+strip[0]+str('/')+strip[1],\"%Y/%m/%d\")\n",
    "    scene_list = query_sentinel(key_json, project_id, start, end, tile, cloud)\n",
    "    for s in scene_list:\n",
    "        download_sentinel(s, outdir)"
   ]
  },
  {
   "cell_type": "markdown",
   "id": "2c077f3c",
   "metadata": {},
   "source": [
    "### 3rd way"
   ]
  },
  {
   "cell_type": "code",
   "execution_count": 18,
   "id": "09b56105",
   "metadata": {},
   "outputs": [
    {
     "name": "stdout",
     "output_type": "stream",
     "text": [
      "Welcome to Sentinel-2 Download Script!\n",
      "Enter a valid working directory path:- \n",
      "Working directory is:  \n",
      "Successfully created the RAW data directory \n",
      "Now enter desired tile:- 39RTM\n",
      "Selected tile is:  39RTM\n",
      "Please enter maximum cloudiness:- 20\n",
      "Searching products with maximum cloud:  20\n",
      "Select starting date for searching products in format (%YYYY/%MM/%DD):- 2017/08/01\n",
      "Starting date is:  2017/08/01\n",
      "Select ending date for searching products in format (%YYYY/%MM/%DD):- 2017/08/01\n",
      "End date is:  2017/08/01\n",
      "S2A_MSIL1C_20170801T071621_N0205_R006_T39RTM_20170801T072707 ; cloud cover: 0.109\n",
      "Downloading scene S2A_MSIL1C_20170801T071621_N0205_R006_T39RTM_20170801T072707.SAFE ...\n",
      "\t ... *B01.jp2\n",
      "\t ... *B02.jp2\n",
      "\t ... *B03.jp2\n",
      "\t ... *B04.jp2\n",
      "\t ... *B05.jp2\n",
      "\t ... *B06.jp2\n",
      "\t ... *B07.jp2\n",
      "\t ... *B08.jp2\n",
      "\t ... *B09.jp2\n",
      "\t ... *B10.jp2\n",
      "\t ... *B11.jp2\n",
      "\t ... *B12.jp2\n",
      "\t ... *B8A.jp2\n",
      "\t ... *TCI.jp2\n",
      "\t ... *PVI.jp2\n",
      "Downloaded 1 products successfully!\n"
     ]
    }
   ],
   "source": [
    "def main():  \n",
    "    print(\"Welcome to Sentinel-2 Download Script! \\b\")\n",
    "    workdir = input(\"Enter a valid working directory path:- \")\n",
    "    print(\"Working directory is: \", workdir, \"\\b\")\n",
    "    \n",
    "    outdir = workdir+'/RAW'\n",
    "    if not os.path.exists(outdir):\n",
    "        os.mkdir(outdir)\n",
    "        print (\"Successfully created the RAW data directory %s \" % outdir)\n",
    "    else:\n",
    "        print (\"Directory %s already exists\" % outdir)\n",
    "  \n",
    "    tile = input(\"Now enter desired tile:- \")\n",
    "    print(\"Selected tile is: \", tile, \"\\b\")\n",
    "\n",
    "    cloud = input(\"Please enter maximum cloudiness:- \")\n",
    "    print(\"Searching products with maximum cloud: \",cloud, \"\\b\")\n",
    "    cloud = int(cloud)\n",
    "\n",
    "    startdate = input(\"Select starting date for searching products in format (%YYYY/%MM/%DD):- \")\n",
    "    print(\"Starting date is: \",startdate, \"\\b\")\n",
    "\n",
    "    enddate = input(\"Select ending date for searching products in format (%YYYY/%MM/%DD):- \")\n",
    "    print(\"End date is: \",enddate, \"\\b\")\n",
    "    \n",
    "    BASE_URL = 'http://storage.googleapis.com/'\n",
    "    key_json = path_to_key\n",
    "    project_id = project_id\n",
    "\n",
    "    start = datetime.strptime(startdate,\"%Y/%m/%d\")\n",
    "    end = datetime.strptime(enddate,\"%Y/%m/%d\")\n",
    "\n",
    "    scene_list = query_sentinel(key_json, project_id, start, end, tile, cloud)\n",
    "    for s in scene_list:\n",
    "        download_sentinel(s, outdir)\n",
    "\n",
    "    if scene_list==[]:\n",
    "        print('No products found! Please enter new time period or change maximum cloudiness')\n",
    "    else:    \n",
    "        print('Downloaded %s products successfully!'%len(scene_list))\n",
    "\n",
    "if __name__ == '__main__':\n",
    "    main()"
   ]
  },
  {
   "cell_type": "code",
   "execution_count": null,
   "id": "d1228418",
   "metadata": {},
   "outputs": [],
   "source": []
  }
 ],
 "metadata": {
  "kernelspec": {
   "display_name": "Python 3 (ipykernel)",
   "language": "python",
   "name": "python3"
  },
  "language_info": {
   "codemirror_mode": {
    "name": "ipython",
    "version": 3
   },
   "file_extension": ".py",
   "mimetype": "text/x-python",
   "name": "python",
   "nbconvert_exporter": "python",
   "pygments_lexer": "ipython3",
   "version": "3.9.7"
  }
 },
 "nbformat": 4,
 "nbformat_minor": 5
}
